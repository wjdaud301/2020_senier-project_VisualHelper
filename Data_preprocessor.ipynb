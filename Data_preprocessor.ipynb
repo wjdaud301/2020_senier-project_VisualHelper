{
 "cells": [
  {
   "cell_type": "code",
   "execution_count": 1,
   "metadata": {},
   "outputs": [],
   "source": [
    "import os\n",
    "import numpy as np\n",
    "from PIL import Image \n",
    "import glob\n",
    "import xml.etree.ElementTree as ET\n",
    "import cv2"
   ]
  },
  {
   "cell_type": "code",
   "execution_count": 3,
   "metadata": {
    "scrolled": true
   },
   "outputs": [
    {
     "name": "stdout",
     "output_type": "stream",
     "text": [
      "['MP_SEL_000500.xml', 'MP_SEL_000501.xml', 'MP_SEL_000502.xml', 'MP_SEL_000503.xml', 'MP_SEL_000504.xml', 'MP_SEL_000505.xml', 'MP_SEL_000506.xml', 'MP_SEL_000507.xml', 'MP_SEL_000508.xml', 'MP_SEL_000509.xml', 'MP_SEL_000510.xml', 'MP_SEL_000511.xml', 'MP_SEL_000512.xml', 'MP_SEL_000513.xml', 'MP_SEL_000514.xml', 'MP_SEL_000515.xml', 'MP_SEL_000516.xml', 'MP_SEL_000517.xml', 'MP_SEL_000518.xml', 'MP_SEL_000520.xml', 'MP_SEL_000521.xml', 'MP_SEL_000522.xml', 'MP_SEL_000524.xml', 'MP_SEL_000525.xml', 'MP_SEL_000526.xml', 'MP_SEL_000527.xml', 'MP_SEL_000528.xml', 'MP_SEL_000529.xml', 'MP_SEL_000530.xml', 'MP_SEL_000531.xml', 'MP_SEL_000532.xml', 'MP_SEL_000533.xml', 'MP_SEL_000534.xml', 'MP_SEL_000535.xml', 'MP_SEL_000536.xml', 'MP_SEL_000537.xml', 'MP_SEL_000538.xml', 'MP_SEL_000539.xml', 'MP_SEL_000540.xml', 'MP_SEL_000541.xml', 'MP_SEL_000542.xml', 'MP_SEL_000543.xml', 'MP_SEL_000544.xml', 'MP_SEL_000545.xml', 'MP_SEL_000546.xml', 'MP_SEL_000547.xml', 'MP_SEL_000548.xml', 'MP_SEL_000549.xml', 'MP_SEL_000550.xml', 'MP_SEL_000551.xml', 'MP_SEL_000552.xml', 'MP_SEL_000553.xml', 'MP_SEL_000554.xml', 'MP_SEL_000555.xml', 'MP_SEL_000556.xml', 'MP_SEL_000557.xml', 'MP_SEL_000558.xml', 'MP_SEL_000559.xml', 'MP_SEL_000560.xml', 'MP_SEL_000561.xml', 'MP_SEL_000562.xml', 'MP_SEL_000563.xml', 'MP_SEL_000564.xml', 'MP_SEL_000565.xml', 'MP_SEL_000566.xml', 'MP_SEL_000567.xml', 'MP_SEL_000568.xml', 'MP_SEL_000569.xml', 'MP_SEL_000570.xml', 'MP_SEL_000571.xml', 'MP_SEL_000572.xml', 'MP_SEL_000573.xml', 'MP_SEL_000574.xml', 'MP_SEL_000575.xml', 'MP_SEL_000576.xml', 'MP_SEL_000577.xml', 'MP_SEL_000579.xml', 'MP_SEL_000581.xml', 'MP_SEL_000582.xml', 'MP_SEL_000583.xml', 'MP_SEL_000584.xml', 'MP_SEL_000585.xml', 'MP_SEL_000586.xml', 'MP_SEL_000587.xml', 'MP_SEL_000589.xml', 'MP_SEL_000590.xml', 'MP_SEL_000591.xml', 'MP_SEL_000592.xml', 'MP_SEL_000593.xml', 'MP_SEL_000594.xml', 'MP_SEL_000595.xml', 'MP_SEL_000596.xml', 'MP_SEL_000597.xml', 'MP_SEL_000598.xml', 'MP_SEL_000599.xml', 'MP_SEL_000600.xml', 'MP_SEL_000601.xml', 'MP_SEL_000602.xml', 'MP_SEL_000603.xml', 'MP_SEL_000604.xml', 'MP_SEL_000605.xml', 'MP_SEL_000606.xml', 'MP_SEL_000607.xml', 'MP_SEL_000609.xml', 'MP_SEL_000610.xml', 'MP_SEL_000611.xml', 'MP_SEL_000612.xml', 'MP_SEL_000613.xml', 'MP_SEL_000614.xml', 'MP_SEL_000615.xml', 'MP_SEL_000616.xml', 'MP_SEL_000617.xml', 'MP_SEL_000618.xml', 'MP_SEL_000619.xml', 'MP_SEL_000620.xml', 'MP_SEL_000621.xml', 'MP_SEL_000622.xml', 'MP_SEL_000623.xml', 'MP_SEL_000624.xml', 'MP_SEL_000625.xml', 'MP_SEL_000627.xml', 'MP_SEL_000628.xml', 'MP_SEL_000629.xml', 'MP_SEL_000630.xml', 'MP_SEL_000632.xml', 'MP_SEL_000634.xml', 'MP_SEL_000635.xml', 'MP_SEL_000636.xml', 'MP_SEL_000637.xml', 'MP_SEL_000638.xml', 'MP_SEL_000639.xml', 'MP_SEL_000641.xml', 'MP_SEL_000642.xml', 'MP_SEL_000643.xml', 'MP_SEL_000644.xml', 'MP_SEL_000645.xml', 'MP_SEL_000646.xml', 'MP_SEL_000647.xml', 'MP_SEL_000648.xml', 'MP_SEL_000649.xml', 'MP_SEL_000650.xml', 'MP_SEL_000651.xml', 'MP_SEL_000652.xml', 'MP_SEL_000653.xml', 'MP_SEL_000654.xml', 'MP_SEL_000655.xml', 'MP_SEL_000656.xml', 'MP_SEL_000657.xml', 'MP_SEL_000658.xml', 'MP_SEL_000659.xml', 'MP_SEL_000660.xml', 'MP_SEL_000661.xml', 'MP_SEL_000662.xml', 'MP_SEL_000663.xml', 'MP_SEL_000664.xml', 'MP_SEL_000665.xml', 'MP_SEL_000666.xml', 'MP_SEL_000667.xml', 'MP_SEL_000668.xml', 'MP_SEL_000669.xml', 'MP_SEL_000671.xml', 'MP_SEL_000672.xml', 'MP_SEL_000673.xml', 'MP_SEL_000674.xml', 'MP_SEL_000675.xml', 'MP_SEL_000676.xml', 'MP_SEL_000677.xml', 'MP_SEL_000678.xml', 'MP_SEL_000679.xml', 'MP_SEL_000681.xml', 'MP_SEL_000682.xml', 'MP_SEL_000683.xml', 'MP_SEL_000684.xml', 'MP_SEL_000685.xml', 'MP_SEL_000686.xml', 'MP_SEL_000687.xml', 'MP_SEL_000688.xml', 'MP_SEL_000689.xml', 'MP_SEL_000690.xml', 'MP_SEL_000691.xml', 'MP_SEL_000692.xml', 'MP_SEL_000693.xml', 'MP_SEL_000694.xml', 'MP_SEL_000695.xml', 'MP_SEL_000696.xml', 'MP_SEL_000697.xml', 'MP_SEL_000698.xml', 'MP_SEL_000699.xml', 'MP_SEL_000700.xml', 'MP_SEL_000702.xml', 'MP_SEL_000704.xml', 'MP_SEL_000705.xml', 'MP_SEL_000706.xml', 'MP_SEL_000707.xml', 'MP_SEL_000708.xml', 'MP_SEL_000709.xml', 'MP_SEL_000710.xml', 'MP_SEL_000711.xml', 'MP_SEL_000713.xml', 'MP_SEL_000714.xml', 'MP_SEL_000715.xml', 'MP_SEL_000717.xml', 'MP_SEL_000720.xml', 'MP_SEL_000721.xml', 'MP_SEL_000722.xml', 'MP_SEL_000723.xml', 'MP_SEL_000724.xml', 'MP_SEL_000726.xml', 'MP_SEL_000728.xml', 'MP_SEL_000729.xml', 'MP_SEL_000730.xml', 'MP_SEL_000733.xml', 'MP_SEL_000734.xml', 'MP_SEL_000737.xml', 'MP_SEL_000738.xml', 'MP_SEL_000739.xml', 'MP_SEL_000740.xml', 'MP_SEL_000742.xml', 'MP_SEL_000744.xml', 'MP_SEL_000745.xml', 'MP_SEL_000746.xml', 'MP_SEL_000747.xml', 'MP_SEL_000749.xml', 'MP_SEL_000750.xml', 'MP_SEL_000751.xml', 'MP_SEL_000752.xml', 'MP_SEL_000753.xml', 'MP_SEL_000754.xml', 'MP_SEL_000755.xml', 'MP_SEL_000756.xml', 'MP_SEL_000757.xml', 'MP_SEL_000758.xml', 'MP_SEL_000759.xml', 'MP_SEL_000760.xml', 'MP_SEL_000762.xml', 'MP_SEL_000763.xml', 'MP_SEL_000764.xml', 'MP_SEL_000765.xml', 'MP_SEL_000766.xml', 'MP_SEL_000767.xml', 'MP_SEL_000768.xml', 'MP_SEL_000770.xml', 'MP_SEL_000771.xml', 'MP_SEL_000772.xml', 'MP_SEL_000773.xml', 'MP_SEL_000774.xml', 'MP_SEL_000775.xml', 'MP_SEL_000776.xml', 'MP_SEL_000777.xml', 'MP_SEL_000778.xml', 'MP_SEL_000779.xml', 'MP_SEL_000780.xml', 'MP_SEL_000781.xml', 'MP_SEL_000782.xml', 'MP_SEL_000783.xml', 'MP_SEL_000784.xml', 'MP_SEL_000785.xml', 'MP_SEL_000786.xml', 'MP_SEL_000787.xml', 'MP_SEL_000788.xml', 'MP_SEL_000789.xml', 'MP_SEL_000790.xml', 'MP_SEL_000791.xml', 'MP_SEL_000792.xml', 'MP_SEL_000793.xml', 'MP_SEL_000794.xml', 'MP_SEL_000795.xml', 'MP_SEL_000796.xml', 'MP_SEL_000797.xml', 'MP_SEL_000798.xml', 'MP_SEL_000799.xml', 'MP_SEL_000800.xml', 'MP_SEL_000801.xml', 'MP_SEL_000802.xml', 'MP_SEL_000803.xml', 'MP_SEL_000804.xml', 'MP_SEL_000805.xml', 'MP_SEL_000806.xml', 'MP_SEL_000808.xml', 'MP_SEL_000809.xml', 'MP_SEL_000810.xml', 'MP_SEL_000811.xml', 'MP_SEL_000812.xml', 'MP_SEL_000813.xml', 'MP_SEL_000814.xml', 'MP_SEL_000815.xml', 'MP_SEL_000816.xml', 'MP_SEL_000817.xml', 'MP_SEL_000818.xml', 'MP_SEL_000820.xml', 'MP_SEL_000822.xml', 'MP_SEL_000823.xml', 'MP_SEL_000824.xml', 'MP_SEL_000825.xml', 'MP_SEL_000827.xml', 'MP_SEL_000828.xml', 'MP_SEL_000829.xml', 'MP_SEL_000830.xml', 'MP_SEL_000831.xml', 'MP_SEL_000832.xml', 'MP_SEL_000833.xml', 'MP_SEL_000834.xml', 'MP_SEL_000835.xml', 'MP_SEL_000837.xml', 'MP_SEL_000838.xml', 'MP_SEL_000839.xml', 'MP_SEL_000840.xml', 'MP_SEL_000841.xml', 'MP_SEL_000842.xml', 'MP_SEL_000843.xml', 'MP_SEL_000844.xml', 'MP_SEL_000845.xml', 'MP_SEL_000846.xml', 'MP_SEL_000847.xml', 'MP_SEL_000848.xml', 'MP_SEL_000849.xml', 'MP_SEL_000850.xml', 'MP_SEL_000851.xml', 'MP_SEL_000852.xml', 'MP_SEL_000853.xml', 'MP_SEL_000854.xml', 'MP_SEL_000855.xml', 'MP_SEL_000856.xml', 'MP_SEL_000857.xml', 'MP_SEL_000858.xml', 'MP_SEL_000859.xml', 'MP_SEL_000860.xml', 'MP_SEL_000861.xml', 'MP_SEL_000862.xml', 'MP_SEL_000863.xml', 'MP_SEL_000864.xml', 'MP_SEL_000865.xml', 'MP_SEL_000866.xml', 'MP_SEL_000867.xml', 'MP_SEL_000868.xml', 'MP_SEL_000869.xml', 'MP_SEL_000870.xml', 'MP_SEL_000872.xml', 'MP_SEL_000873.xml', 'MP_SEL_000874.xml', 'MP_SEL_000875.xml', 'MP_SEL_000877.xml', 'MP_SEL_000878.xml', 'MP_SEL_000879.xml', 'MP_SEL_000880.xml', 'MP_SEL_000881.xml', 'MP_SEL_000882.xml', 'MP_SEL_000883.xml', 'MP_SEL_000884.xml', 'MP_SEL_000885.xml', 'MP_SEL_000886.xml', 'MP_SEL_000887.xml', 'MP_SEL_000888.xml', 'MP_SEL_000889.xml', 'MP_SEL_000890.xml', 'MP_SEL_000891.xml', 'MP_SEL_000892.xml', 'MP_SEL_000893.xml', 'MP_SEL_000894.xml', 'MP_SEL_000895.xml', 'MP_SEL_000896.xml', 'MP_SEL_000898.xml', 'MP_SEL_000899.xml', 'MP_SEL_000900.xml', 'MP_SEL_000901.xml', 'MP_SEL_000902.xml', 'MP_SEL_000903.xml', 'MP_SEL_000904.xml', 'MP_SEL_000905.xml', 'MP_SEL_000906.xml', 'MP_SEL_000907.xml', 'MP_SEL_000908.xml', 'MP_SEL_000909.xml', 'MP_SEL_000910.xml', 'MP_SEL_000911.xml', 'MP_SEL_000912.xml', 'MP_SEL_000913.xml', 'MP_SEL_000914.xml', 'MP_SEL_000915.xml', 'MP_SEL_000916.xml', 'MP_SEL_000917.xml', 'MP_SEL_000918.xml', 'MP_SEL_000919.xml', 'MP_SEL_000920.xml', 'MP_SEL_000921.xml', 'MP_SEL_000922.xml', 'MP_SEL_000923.xml', 'MP_SEL_000924.xml', 'MP_SEL_000925.xml', 'MP_SEL_000926.xml', 'MP_SEL_000927.xml', 'MP_SEL_000928.xml', 'MP_SEL_000929.xml', 'MP_SEL_000930.xml', 'MP_SEL_000931.xml', 'MP_SEL_000932.xml', 'MP_SEL_000933.xml', 'MP_SEL_000934.xml', 'MP_SEL_000935.xml', 'MP_SEL_000936.xml', 'MP_SEL_000937.xml', 'MP_SEL_000938.xml', 'MP_SEL_000939.xml', 'MP_SEL_000940.xml', 'MP_SEL_000941.xml', 'MP_SEL_000942.xml', 'MP_SEL_000943.xml', 'MP_SEL_000944.xml', 'MP_SEL_000945.xml', 'MP_SEL_000946.xml', 'MP_SEL_000947.xml', 'MP_SEL_000948.xml', 'MP_SEL_000949.xml', 'MP_SEL_000950.xml', 'MP_SEL_000951.xml', 'MP_SEL_000952.xml', 'MP_SEL_000953.xml', 'MP_SEL_000954.xml', 'MP_SEL_000955.xml', 'MP_SEL_000956.xml', 'MP_SEL_000957.xml', 'MP_SEL_000958.xml', 'MP_SEL_000959.xml', 'MP_SEL_000960.xml', 'MP_SEL_000961.xml', 'MP_SEL_000962.xml', 'MP_SEL_000963.xml', 'MP_SEL_000964.xml', 'MP_SEL_000965.xml', 'MP_SEL_000966.xml', 'MP_SEL_000967.xml', 'MP_SEL_000968.xml', 'MP_SEL_000969.xml', 'MP_SEL_000970.xml', 'MP_SEL_000971.xml', 'MP_SEL_000972.xml', 'MP_SEL_044020.xml', 'MP_SEL_044021.xml', 'MP_SEL_044022.xml', 'MP_SEL_044023.xml', 'MP_SEL_044024.xml', 'MP_SEL_044025.xml', 'MP_SEL_044026.xml', 'MP_SEL_044027.xml', 'MP_SEL_044028.xml', 'MP_SEL_044029.xml', 'MP_SEL_044030.xml', 'MP_SEL_044031.xml', 'MP_SEL_044032.xml', 'MP_SEL_044033.xml', 'MP_SEL_044034.xml', 'MP_SEL_044035.xml', 'MP_SEL_044036.xml', 'MP_SEL_044037.xml', 'MP_SEL_044038.xml', 'MP_SEL_044039.xml', 'MP_SEL_044040.xml', 'MP_SEL_044041.xml', 'MP_SEL_044042.xml', 'MP_SEL_044043.xml', 'MP_SEL_044044.xml', 'MP_SEL_044045.xml', 'MP_SEL_044046.xml', 'MP_SEL_044047.xml', 'MP_SEL_044048.xml', 'MP_SEL_044049.xml', 'MP_SEL_044050.xml', 'MP_SEL_044051.xml', 'MP_SEL_044052.xml', 'MP_SEL_044053.xml', 'MP_SEL_044054.xml', 'MP_SEL_044055.xml', 'MP_SEL_044056.xml', 'MP_SEL_044057.xml', 'MP_SEL_044058.xml', 'MP_SEL_044059.xml', 'MP_SEL_044060.xml', 'MP_SEL_044061.xml', 'MP_SEL_044062.xml', 'MP_SEL_044063.xml', 'MP_SEL_044064.xml', 'MP_SEL_044065.xml', 'MP_SEL_044066.xml']\n"
     ]
    }
   ],
   "source": [
    "#path = \"D:/custom_dataset/Annotations/\"  #xml 경로 설정\n",
    "#path='C:/Users/Unlimited/Desktop/data_1/anote/'\n",
    "#path='D:/data_1/Annotations/'\n",
    "path='C:/Users/Unlimited/Desktop/data_test/Annotations/'\n",
    "file_list = os.listdir(path)\n",
    "file_list_py = [file for file in file_list if file.endswith(\".xml\")]\n",
    "#print (\"file_list_xml: {}\".format(file_list_py))\n",
    "print(file_list)\n",
    "#len(file_list_py)"
   ]
  },
  {
   "cell_type": "code",
   "execution_count": 4,
   "metadata": {
    "scrolled": true
   },
   "outputs": [
    {
     "name": "stdout",
     "output_type": "stream",
     "text": [
      "file_list_jpg: ['MP_SEL_000500.jpg', 'MP_SEL_000501.jpg', 'MP_SEL_000502.jpg', 'MP_SEL_000503.jpg', 'MP_SEL_000504.jpg', 'MP_SEL_000505.jpg', 'MP_SEL_000506.jpg', 'MP_SEL_000507.jpg', 'MP_SEL_000508.jpg', 'MP_SEL_000509.jpg', 'MP_SEL_000510.jpg', 'MP_SEL_000511.jpg', 'MP_SEL_000512.jpg', 'MP_SEL_000513.jpg', 'MP_SEL_000514.jpg', 'MP_SEL_000515.jpg', 'MP_SEL_000516.jpg', 'MP_SEL_000517.jpg', 'MP_SEL_000518.jpg', 'MP_SEL_000520.jpg', 'MP_SEL_000521.jpg', 'MP_SEL_000522.jpg', 'MP_SEL_000524.jpg', 'MP_SEL_000525.jpg', 'MP_SEL_000526.jpg', 'MP_SEL_000527.jpg', 'MP_SEL_000528.jpg', 'MP_SEL_000529.jpg', 'MP_SEL_000530.jpg', 'MP_SEL_000531.jpg', 'MP_SEL_000532.jpg', 'MP_SEL_000533.jpg', 'MP_SEL_000534.jpg', 'MP_SEL_000535.jpg', 'MP_SEL_000536.jpg', 'MP_SEL_000537.jpg', 'MP_SEL_000538.jpg', 'MP_SEL_000539.jpg', 'MP_SEL_000540.jpg', 'MP_SEL_000541.jpg', 'MP_SEL_000542.jpg', 'MP_SEL_000543.jpg', 'MP_SEL_000544.jpg', 'MP_SEL_000545.jpg', 'MP_SEL_000546.jpg', 'MP_SEL_000547.jpg', 'MP_SEL_000548.jpg', 'MP_SEL_000549.jpg', 'MP_SEL_000550.jpg', 'MP_SEL_000551.jpg', 'MP_SEL_000552.jpg', 'MP_SEL_000553.jpg', 'MP_SEL_000554.jpg', 'MP_SEL_000555.jpg', 'MP_SEL_000556.jpg', 'MP_SEL_000557.jpg', 'MP_SEL_000558.jpg', 'MP_SEL_000559.jpg', 'MP_SEL_000560.jpg', 'MP_SEL_000561.jpg', 'MP_SEL_000562.jpg', 'MP_SEL_000563.jpg', 'MP_SEL_000564.jpg', 'MP_SEL_000565.jpg', 'MP_SEL_000566.jpg', 'MP_SEL_000567.jpg', 'MP_SEL_000568.jpg', 'MP_SEL_000569.jpg', 'MP_SEL_000570.jpg', 'MP_SEL_000571.jpg', 'MP_SEL_000572.jpg', 'MP_SEL_000573.jpg', 'MP_SEL_000574.jpg', 'MP_SEL_000575.jpg', 'MP_SEL_000576.jpg', 'MP_SEL_000577.jpg', 'MP_SEL_000579.jpg', 'MP_SEL_000581.jpg', 'MP_SEL_000582.jpg', 'MP_SEL_000583.jpg', 'MP_SEL_000584.jpg', 'MP_SEL_000585.jpg', 'MP_SEL_000586.jpg', 'MP_SEL_000587.jpg', 'MP_SEL_000589.jpg', 'MP_SEL_000590.jpg', 'MP_SEL_000591.jpg', 'MP_SEL_000592.jpg', 'MP_SEL_000593.jpg', 'MP_SEL_000594.jpg', 'MP_SEL_000595.jpg', 'MP_SEL_000596.jpg', 'MP_SEL_000597.jpg', 'MP_SEL_000598.jpg', 'MP_SEL_000599.jpg', 'MP_SEL_000600.jpg', 'MP_SEL_000601.jpg', 'MP_SEL_000602.jpg', 'MP_SEL_000603.jpg', 'MP_SEL_000604.jpg', 'MP_SEL_000605.jpg', 'MP_SEL_000606.jpg', 'MP_SEL_000607.jpg', 'MP_SEL_000609.jpg', 'MP_SEL_000610.jpg', 'MP_SEL_000611.jpg', 'MP_SEL_000612.jpg', 'MP_SEL_000613.jpg', 'MP_SEL_000614.jpg', 'MP_SEL_000615.jpg', 'MP_SEL_000616.jpg', 'MP_SEL_000617.jpg', 'MP_SEL_000618.jpg', 'MP_SEL_000619.jpg', 'MP_SEL_000620.jpg', 'MP_SEL_000621.jpg', 'MP_SEL_000622.jpg', 'MP_SEL_000623.jpg', 'MP_SEL_000624.jpg', 'MP_SEL_000625.jpg', 'MP_SEL_000627.jpg', 'MP_SEL_000628.jpg', 'MP_SEL_000629.jpg', 'MP_SEL_000630.jpg', 'MP_SEL_000632.jpg', 'MP_SEL_000634.jpg', 'MP_SEL_000635.jpg', 'MP_SEL_000636.jpg', 'MP_SEL_000637.jpg', 'MP_SEL_000638.jpg', 'MP_SEL_000639.jpg', 'MP_SEL_000641.jpg', 'MP_SEL_000642.jpg', 'MP_SEL_000643.jpg', 'MP_SEL_000644.jpg', 'MP_SEL_000645.jpg', 'MP_SEL_000646.jpg', 'MP_SEL_000647.jpg', 'MP_SEL_000648.jpg', 'MP_SEL_000649.jpg', 'MP_SEL_000650.jpg', 'MP_SEL_000651.jpg', 'MP_SEL_000652.jpg', 'MP_SEL_000653.jpg', 'MP_SEL_000654.jpg', 'MP_SEL_000655.jpg', 'MP_SEL_000656.jpg', 'MP_SEL_000657.jpg', 'MP_SEL_000658.jpg', 'MP_SEL_000659.jpg', 'MP_SEL_000660.jpg', 'MP_SEL_000661.jpg', 'MP_SEL_000662.jpg', 'MP_SEL_000663.jpg', 'MP_SEL_000664.jpg', 'MP_SEL_000665.jpg', 'MP_SEL_000666.jpg', 'MP_SEL_000667.jpg', 'MP_SEL_000668.jpg', 'MP_SEL_000669.jpg', 'MP_SEL_000671.jpg', 'MP_SEL_000672.jpg', 'MP_SEL_000673.jpg', 'MP_SEL_000674.jpg', 'MP_SEL_000675.jpg', 'MP_SEL_000676.jpg', 'MP_SEL_000677.jpg', 'MP_SEL_000678.jpg', 'MP_SEL_000679.jpg', 'MP_SEL_000681.jpg', 'MP_SEL_000682.jpg', 'MP_SEL_000683.jpg', 'MP_SEL_000684.jpg', 'MP_SEL_000685.jpg', 'MP_SEL_000686.jpg', 'MP_SEL_000687.jpg', 'MP_SEL_000688.jpg', 'MP_SEL_000689.jpg', 'MP_SEL_000690.jpg', 'MP_SEL_000691.jpg', 'MP_SEL_000692.jpg', 'MP_SEL_000693.jpg', 'MP_SEL_000694.jpg', 'MP_SEL_000695.jpg', 'MP_SEL_000696.jpg', 'MP_SEL_000697.jpg', 'MP_SEL_000698.jpg', 'MP_SEL_000699.jpg', 'MP_SEL_000700.jpg', 'MP_SEL_000702.jpg', 'MP_SEL_000704.jpg', 'MP_SEL_000705.jpg', 'MP_SEL_000706.jpg', 'MP_SEL_000707.jpg', 'MP_SEL_000708.jpg', 'MP_SEL_000709.jpg', 'MP_SEL_000710.jpg', 'MP_SEL_000711.jpg', 'MP_SEL_000713.jpg', 'MP_SEL_000714.jpg', 'MP_SEL_000715.jpg', 'MP_SEL_000717.jpg', 'MP_SEL_000720.jpg', 'MP_SEL_000721.jpg', 'MP_SEL_000722.jpg', 'MP_SEL_000723.jpg', 'MP_SEL_000724.jpg', 'MP_SEL_000726.jpg', 'MP_SEL_000728.jpg', 'MP_SEL_000729.jpg', 'MP_SEL_000730.jpg', 'MP_SEL_000733.jpg', 'MP_SEL_000734.jpg', 'MP_SEL_000737.jpg', 'MP_SEL_000738.jpg', 'MP_SEL_000739.jpg', 'MP_SEL_000740.jpg', 'MP_SEL_000742.jpg', 'MP_SEL_000744.jpg', 'MP_SEL_000745.jpg', 'MP_SEL_000746.jpg', 'MP_SEL_000747.jpg', 'MP_SEL_000749.jpg', 'MP_SEL_000750.jpg', 'MP_SEL_000751.jpg', 'MP_SEL_000752.jpg', 'MP_SEL_000753.jpg', 'MP_SEL_000754.jpg', 'MP_SEL_000755.jpg', 'MP_SEL_000756.jpg', 'MP_SEL_000757.jpg', 'MP_SEL_000758.jpg', 'MP_SEL_000759.jpg', 'MP_SEL_000760.jpg', 'MP_SEL_000762.jpg', 'MP_SEL_000763.jpg', 'MP_SEL_000764.jpg', 'MP_SEL_000765.jpg', 'MP_SEL_000766.jpg', 'MP_SEL_000767.jpg', 'MP_SEL_000768.jpg', 'MP_SEL_000770.jpg', 'MP_SEL_000771.jpg', 'MP_SEL_000772.jpg', 'MP_SEL_000773.jpg', 'MP_SEL_000774.jpg', 'MP_SEL_000775.jpg', 'MP_SEL_000776.jpg', 'MP_SEL_000777.jpg', 'MP_SEL_000778.jpg', 'MP_SEL_000779.jpg', 'MP_SEL_000780.jpg', 'MP_SEL_000781.jpg', 'MP_SEL_000782.jpg', 'MP_SEL_000783.jpg', 'MP_SEL_000784.jpg', 'MP_SEL_000785.jpg', 'MP_SEL_000786.jpg', 'MP_SEL_000787.jpg', 'MP_SEL_000788.jpg', 'MP_SEL_000789.jpg', 'MP_SEL_000790.jpg', 'MP_SEL_000791.jpg', 'MP_SEL_000792.jpg', 'MP_SEL_000793.jpg', 'MP_SEL_000794.jpg', 'MP_SEL_000795.jpg', 'MP_SEL_000796.jpg', 'MP_SEL_000797.jpg', 'MP_SEL_000798.jpg', 'MP_SEL_000799.jpg', 'MP_SEL_000800.jpg', 'MP_SEL_000801.jpg', 'MP_SEL_000802.jpg', 'MP_SEL_000803.jpg', 'MP_SEL_000804.jpg', 'MP_SEL_000805.jpg', 'MP_SEL_000806.jpg', 'MP_SEL_000808.jpg', 'MP_SEL_000809.jpg', 'MP_SEL_000810.jpg', 'MP_SEL_000811.jpg', 'MP_SEL_000812.jpg', 'MP_SEL_000813.jpg', 'MP_SEL_000814.jpg', 'MP_SEL_000815.jpg', 'MP_SEL_000816.jpg', 'MP_SEL_000817.jpg', 'MP_SEL_000818.jpg', 'MP_SEL_000820.jpg', 'MP_SEL_000822.jpg', 'MP_SEL_000823.jpg', 'MP_SEL_000824.jpg', 'MP_SEL_000825.jpg', 'MP_SEL_000827.jpg', 'MP_SEL_000828.jpg', 'MP_SEL_000829.jpg', 'MP_SEL_000830.jpg', 'MP_SEL_000831.jpg', 'MP_SEL_000832.jpg', 'MP_SEL_000833.jpg', 'MP_SEL_000834.jpg', 'MP_SEL_000835.jpg', 'MP_SEL_000837.jpg', 'MP_SEL_000838.jpg', 'MP_SEL_000839.jpg', 'MP_SEL_000840.jpg', 'MP_SEL_000841.jpg', 'MP_SEL_000842.jpg', 'MP_SEL_000843.jpg', 'MP_SEL_000844.jpg', 'MP_SEL_000845.jpg', 'MP_SEL_000846.jpg', 'MP_SEL_000847.jpg', 'MP_SEL_000848.jpg', 'MP_SEL_000849.jpg', 'MP_SEL_000850.jpg', 'MP_SEL_000851.jpg', 'MP_SEL_000852.jpg', 'MP_SEL_000853.jpg', 'MP_SEL_000854.jpg', 'MP_SEL_000855.jpg', 'MP_SEL_000856.jpg', 'MP_SEL_000857.jpg', 'MP_SEL_000858.jpg', 'MP_SEL_000859.jpg', 'MP_SEL_000860.jpg', 'MP_SEL_000861.jpg', 'MP_SEL_000862.jpg', 'MP_SEL_000863.jpg', 'MP_SEL_000864.jpg', 'MP_SEL_000865.jpg', 'MP_SEL_000866.jpg', 'MP_SEL_000867.jpg', 'MP_SEL_000868.jpg', 'MP_SEL_000869.jpg', 'MP_SEL_000870.jpg', 'MP_SEL_000872.jpg', 'MP_SEL_000873.jpg', 'MP_SEL_000874.jpg', 'MP_SEL_000875.jpg', 'MP_SEL_000877.jpg', 'MP_SEL_000878.jpg', 'MP_SEL_000879.jpg', 'MP_SEL_000880.jpg', 'MP_SEL_000881.jpg', 'MP_SEL_000882.jpg', 'MP_SEL_000883.jpg', 'MP_SEL_000884.jpg', 'MP_SEL_000885.jpg', 'MP_SEL_000886.jpg', 'MP_SEL_000887.jpg', 'MP_SEL_000888.jpg', 'MP_SEL_000889.jpg', 'MP_SEL_000890.jpg', 'MP_SEL_000891.jpg', 'MP_SEL_000892.jpg', 'MP_SEL_000893.jpg', 'MP_SEL_000894.jpg', 'MP_SEL_000895.jpg', 'MP_SEL_000896.jpg', 'MP_SEL_000898.jpg', 'MP_SEL_000899.jpg', 'MP_SEL_000900.jpg', 'MP_SEL_000901.jpg', 'MP_SEL_000902.jpg', 'MP_SEL_000903.jpg', 'MP_SEL_000904.jpg', 'MP_SEL_000905.jpg', 'MP_SEL_000906.jpg', 'MP_SEL_000907.jpg', 'MP_SEL_000908.jpg', 'MP_SEL_000909.jpg', 'MP_SEL_000910.jpg', 'MP_SEL_000911.jpg', 'MP_SEL_000912.jpg', 'MP_SEL_000913.jpg', 'MP_SEL_000914.jpg', 'MP_SEL_000915.jpg', 'MP_SEL_000916.jpg', 'MP_SEL_000917.jpg', 'MP_SEL_000918.jpg', 'MP_SEL_000919.jpg', 'MP_SEL_000920.jpg', 'MP_SEL_000921.jpg', 'MP_SEL_000922.jpg', 'MP_SEL_000923.jpg', 'MP_SEL_000924.jpg', 'MP_SEL_000925.jpg', 'MP_SEL_000926.jpg', 'MP_SEL_000927.jpg', 'MP_SEL_000928.jpg', 'MP_SEL_000929.jpg', 'MP_SEL_000930.jpg', 'MP_SEL_000931.jpg', 'MP_SEL_000932.jpg', 'MP_SEL_000933.jpg', 'MP_SEL_000934.jpg', 'MP_SEL_000935.jpg', 'MP_SEL_000936.jpg', 'MP_SEL_000937.jpg', 'MP_SEL_000938.jpg', 'MP_SEL_000939.jpg', 'MP_SEL_000940.jpg', 'MP_SEL_000941.jpg', 'MP_SEL_000942.jpg', 'MP_SEL_000943.jpg', 'MP_SEL_000944.jpg', 'MP_SEL_000945.jpg', 'MP_SEL_000946.jpg', 'MP_SEL_000947.jpg', 'MP_SEL_000948.jpg', 'MP_SEL_000949.jpg', 'MP_SEL_000950.jpg', 'MP_SEL_000951.jpg', 'MP_SEL_000952.jpg', 'MP_SEL_000953.jpg', 'MP_SEL_000954.jpg', 'MP_SEL_000955.jpg', 'MP_SEL_000956.jpg', 'MP_SEL_000957.jpg', 'MP_SEL_000958.jpg', 'MP_SEL_000959.jpg', 'MP_SEL_000960.jpg', 'MP_SEL_000961.jpg', 'MP_SEL_000962.jpg', 'MP_SEL_000963.jpg', 'MP_SEL_000964.jpg', 'MP_SEL_000965.jpg', 'MP_SEL_000966.jpg', 'MP_SEL_000967.jpg', 'MP_SEL_000968.jpg', 'MP_SEL_000969.jpg', 'MP_SEL_000970.jpg', 'MP_SEL_000971.jpg', 'MP_SEL_000972.jpg', 'MP_SEL_044020.jpg', 'MP_SEL_044021.jpg', 'MP_SEL_044022.jpg', 'MP_SEL_044023.jpg', 'MP_SEL_044024.jpg', 'MP_SEL_044025.jpg', 'MP_SEL_044026.jpg', 'MP_SEL_044027.jpg', 'MP_SEL_044028.jpg', 'MP_SEL_044029.jpg', 'MP_SEL_044030.jpg', 'MP_SEL_044031.jpg', 'MP_SEL_044032.jpg', 'MP_SEL_044033.jpg', 'MP_SEL_044034.jpg', 'MP_SEL_044035.jpg', 'MP_SEL_044036.jpg', 'MP_SEL_044037.jpg', 'MP_SEL_044038.jpg', 'MP_SEL_044039.jpg', 'MP_SEL_044040.jpg', 'MP_SEL_044041.jpg', 'MP_SEL_044042.jpg', 'MP_SEL_044043.jpg', 'MP_SEL_044044.jpg', 'MP_SEL_044045.jpg', 'MP_SEL_044046.jpg', 'MP_SEL_044047.jpg', 'MP_SEL_044048.jpg', 'MP_SEL_044049.jpg', 'MP_SEL_044050.jpg', 'MP_SEL_044051.jpg', 'MP_SEL_044052.jpg', 'MP_SEL_044053.jpg', 'MP_SEL_044054.jpg', 'MP_SEL_044055.jpg', 'MP_SEL_044056.jpg', 'MP_SEL_044057.jpg', 'MP_SEL_044058.jpg', 'MP_SEL_044059.jpg', 'MP_SEL_044060.jpg', 'MP_SEL_044061.jpg', 'MP_SEL_044062.jpg', 'MP_SEL_044063.jpg', 'MP_SEL_044064.jpg', 'MP_SEL_044065.jpg', 'MP_SEL_044066.jpg']\n"
     ]
    }
   ],
   "source": [
    "#path2='D:/custom_dataset/JPEGImages/'#jpg 경로설정\n",
    "#path2='C:/Users/Unlimited/Desktop/data_1/imagete/'\n",
    "#path2='D:/data_1/JPEGImages'\n",
    "path2='C:/Users/Unlimited/Desktop/data_test/JPEGImages/'\n",
    "file_list = os.listdir(path2)\n",
    "file_list_jpg = [file for file in file_list if file.endswith(\".jpg\")]  \n",
    "print (\"file_list_jpg: {}\".format(file_list_jpg))"
   ]
  },
  {
   "cell_type": "code",
   "execution_count": null,
   "metadata": {},
   "outputs": [],
   "source": [
    "save_path_xml=\"D:/custom_dataset/Annotations_P/\"\n",
    "save_path_img=\"D:/custom_dataset/JPEGImages_P/\""
   ]
  },
  {
   "cell_type": "code",
   "execution_count": null,
   "metadata": {},
   "outputs": [],
   "source": [
    "for xml in file_list_py:\n",
    "    i=0\n",
    "    for jpg in file_list_jpg:\n",
    "        if xml[:-4]==jpg[:-4]:\n",
    "            i=i+1\n",
    "    if i==0:\n",
    "        print(xml[:-4])"
   ]
  },
  {
   "cell_type": "code",
   "execution_count": 5,
   "metadata": {},
   "outputs": [],
   "source": [
    "labels=['bicycle',\n",
    "'bus',\n",
    "'car',\n",
    "'carrier',\n",
    "'cat',\n",
    "'dog',\n",
    "'motorcycle',\n",
    "'movable_signage',\n",
    "'person',\n",
    "'scooter',\n",
    "'stroller',       \n",
    "'truck',\n",
    "'wheelchair',\n",
    "'barricade',\n",
    "'bench',\n",
    "'bollard',\n",
    "'chair',\n",
    "'fire_hydrant',\n",
    "'kiosk',\n",
    "'parking_meter',\n",
    "'pole',\n",
    "'potted_plant',\n",
    "#'power_controller',\n",
    "'stop',\n",
    "'table',\n",
    "'traffic_light',\n",
    "#'traffic_light_controller',\n",
    "'traffic_sign',\n",
    "'tree_trunk'\n",
    "]"
   ]
  },
  {
   "cell_type": "code",
   "execution_count": null,
   "metadata": {},
   "outputs": [],
   "source": [
    "def obj_tv():\n",
    "    path_3='D:/data_1/'\n",
    "    for label in labels:\n",
    "        trainval = open(path_3+'ImageSets/Main/'+label+'trainval.txt', 'w')\n",
    "        val = open(path_3+'ImageSets/Main/'+label+'val.txt', 'w')\n",
    "        train = open(path_3+'ImageSets/Main/'+label+'train.txt', 'w') \n",
    "        test = open(path_3+'ImageSets/Main/'+label+'test.txt', 'w')    \n",
    "        test.close() \n",
    "        train.close()\n",
    "        val.close()        \n",
    "        trainval.close() \n",
    "        \n",
    "    for label in labels:\n",
    "        trainval = open(path_3+'ImageSets/Main/'+label+'_trainval.txt', 'a')\n",
    "        val = open(path_3+'ImageSets/Main/'+label+'_val.txt', 'a')\n",
    "        train = open(path_3+'ImageSets/Main/'+label+'_train.txt', 'a')\n",
    "        test = open(path_3+'ImageSets/Main/'+label+'test.txt', 'a')  \n",
    "        \n",
    "        i=0\n",
    "        for lis in file_list_py:\n",
    "            tree = ET.parse(path+lis)\n",
    "            root = tree.getroot()\n",
    "            a=[]\n",
    "            for obj in root.findall('object') :\n",
    "                objs=obj.find('name')\n",
    "                txt = objs.text\n",
    "                a.append(txt)\n",
    "            b=set(a)\n",
    "            if label in b:\n",
    "#                trainval.write(lis[:-4]+'  1\\n')\n",
    "                \n",
    "                if(i<len(file_list_py)*0.1):\n",
    "                    test.write(lis[:-4]+'  1\\n')\n",
    "                    \n",
    "                elif (i<len(file_list_py)*0.28):\n",
    "                    trainval.write(lis[:-4]+'  1\\n')\n",
    "                    val.write(lis[:-4]+'  1\\n')\n",
    "                    \n",
    "                else :\n",
    "                    trainval.write(lis[:-4]+'  1\\n')\n",
    "                    train.write(lis[:-4]+'  1\\n')\n",
    "                    \n",
    "            else:\n",
    "#                trainval.write(lis[:-4]+' -1\\n')\n",
    "                if(i<len(file_list_py)*0.1):\n",
    "                    test.write(lis[:-4]+' -1\\n')\n",
    "                    \n",
    "                elif (i<len(file_list_py)*0.28):\n",
    "                    trainval.write(lis[:-4]+' -1\\n')\n",
    "                    val.write(lis[:-4]+' -1\\n')\n",
    "                    \n",
    "                else :\n",
    "                    trainval.write(lis[:-4]+' -1\\n')\n",
    "                    train.write(lis[:-4]+' -1\\n')\n",
    "                    \n",
    "            i=i+1\n",
    "        train.close()\n",
    "        val.close()        \n",
    "        trainval.close()  \n",
    "    print(\"Finish\")"
   ]
  },
  {
   "cell_type": "code",
   "execution_count": null,
   "metadata": {},
   "outputs": [],
   "source": [
    "def create_tv():\n",
    "    path_3='D:/data_1/'\n",
    "    trainval = open(path_3+'ImageSets/Main/trainval.txt', 'w')\n",
    "    val = open(path_3+'ImageSets/Main/val.txt', 'w')\n",
    "    train = open(path_3+'ImageSets/Main/train.txt', 'w') \n",
    "    test = open(path_3+'ImageSets/Main/test.txt', 'w')    \n",
    "    test.close() \n",
    "    train.close()\n",
    "    val.close()        \n",
    "    trainval.close() \n",
    "\n",
    "    trainval = open(path_3+'C:/Users/Unlimited/Desktop/data_1/ImageSets/Main/trainval.txt', 'a')\n",
    "    val = open(path_3'C:/Users/Unlimited/Desktop/data_1/ImageSets/Main/val.txt', 'a')\n",
    "    train = open(path_3'C:/Users/Unlimited/Desktop/data_1/ImageSets/Main/train.txt', 'a')\n",
    "    test = open(path_3+'C:/Users/Unlimited/Desktop/data_1/ImageSets/Main/test.txt', 'a')      \n",
    "    i=0\n",
    "    for lis in file_list_py:  \n",
    "#        trainval.write(lis[:-4]+'\\n')\n",
    "        \n",
    "        if(i<len(file_list_py)*0.1):\n",
    "            test.write(lis[:-4]+'\\n')\n",
    "            \n",
    "        elif (i<len(file_list_py)*0.28):\n",
    "            trainval.write(lis[:-4]+'\\n')\n",
    "            val.write(lis[:-4]+'\\n')\n",
    "        else :\n",
    "            trainval.write(lis[:-4]+'\\n')\n",
    "            train.write(lis[:-4]+'\\n')\n",
    "            \n",
    "        i=i+1 \n",
    "    train.close()\n",
    "    val.close()        \n",
    "    trainval.close() \n",
    "    print('Finish')\n"
   ]
  },
  {
   "cell_type": "code",
   "execution_count": 9,
   "metadata": {},
   "outputs": [],
   "source": [
    "def create_test():\n",
    "    test = open('C:/Users/Unlimited/Desktop/data_1/ImageSets/Main/test.txt', 'w')    \n",
    "    test.close() \n",
    "    test = open('C:/Users/Unlimited/Desktop/data_1/ImageSets/Main/test.txt', 'a')      \n",
    "\n",
    "    for lis in file_list_py:  \n",
    "        test.write(lis[:-4]+'\\n')\n",
    "    test.close()\n",
    "    \n",
    "    for lab in labels:\n",
    "        test = open('C:/Users/Unlimited/Desktop/data_1/ImageSets/Main/'+lab+'_test.txt', 'w')    \n",
    "        test.close() \n",
    "        \n",
    "    for label in labels:\n",
    "        test = open('C:/Users/Unlimited/Desktop/data_1/ImageSets/Main/'+label+'_test.txt', 'a')\n",
    "        for lis in file_list_py:\n",
    "            tree = ET.parse(path+lis)\n",
    "            root = tree.getroot()\n",
    "            a=[]\n",
    "            \n",
    "            for obj in root.findall('object') :\n",
    "                objs=obj.find('name')\n",
    "                txt = objs.text\n",
    "                a.append(txt)\n",
    "            b=set(a)\n",
    "            if label in b:\n",
    "                test.write(lis[:-4]+'  1\\n')\n",
    "                \n",
    "            else:\n",
    "                test.write(lis[:-4]+' -1\\n')\n",
    "                \n",
    "        test.close()\n",
    "        \n",
    "    print(\"Finish\")"
   ]
  },
  {
   "cell_type": "code",
   "execution_count": 11,
   "metadata": {},
   "outputs": [],
   "source": [
    "def create_test():\n",
    "    test = open('C:/Users/Unlimited/Desktop/data_test/ImageSets/Main/test.txt', 'w')    \n",
    "    test.close() \n",
    "    test = open('C:/Users/Unlimited/Desktop/data_test/ImageSets/Main/test.txt', 'a')      \n",
    "\n",
    "    for lis in file_list_py:  \n",
    "        test.write(lis[:-4]+'\\n')\n",
    "    test.close()\n",
    "    \n",
    "    for lab in labels:\n",
    "        test = open('C:/Users/Unlimited/Desktop/data_test/ImageSets/Main/'+lab+'_test.txt', 'w')    \n",
    "        test.close() \n",
    "        \n",
    "    for label in labels:\n",
    "        test = open('C:/Users/Unlimited/Desktop/data_test/ImageSets/Main/'+label+'_test.txt', 'a')\n",
    "        for lis in file_list_py:\n",
    "            tree = ET.parse(path+lis)\n",
    "            root = tree.getroot()\n",
    "            a=[]\n",
    "            \n",
    "            for obj in root.findall('object') :\n",
    "                objs=obj.find('name')\n",
    "                txt = objs.text\n",
    "                a.append(txt)\n",
    "            b=set(a)\n",
    "            if label in b:\n",
    "                test.write(lis[:-4]+'  1\\n')\n",
    "                \n",
    "            else:\n",
    "                test.write(lis[:-4]+' -1\\n')\n",
    "                \n",
    "        test.close()\n",
    "        \n",
    "    print(\"Finish\")"
   ]
  },
  {
   "cell_type": "code",
   "execution_count": 7,
   "metadata": {
    "scrolled": true
   },
   "outputs": [
    {
     "name": "stdout",
     "output_type": "stream",
     "text": [
      "number of bicycle=64\n",
      "number of bus=41\n",
      "number of car=1380\n",
      "number of carrier=22\n",
      "number of cat=0\n",
      "number of dog=0\n",
      "number of motorcycle=69\n",
      "number of movable_signage=188\n",
      "number of person=381\n",
      "number of scooter=0\n",
      "number of stroller=2\n",
      "number of truck=203\n",
      "number of wheelchair=3\n",
      "number of barricade=21\n",
      "number of bench=45\n",
      "number of bollard=353\n",
      "number of chair=88\n",
      "number of fire_hydrant=10\n",
      "number of kiosk=12\n",
      "number of parking_meter=1\n",
      "number of pole=773\n",
      "number of potted_plant=136\n",
      "number of stop=5\n",
      "number of table=20\n",
      "number of traffic_light=89\n",
      "number of traffic_sign=109\n",
      "number of tree_trunk=665\n"
     ]
    }
   ],
   "source": [
    "for label in labels:\n",
    "    i=0\n",
    "    for lis in file_list_py:\n",
    "        \n",
    "#        if int(lis[9:13])>3359 and int(lis[9:13])<7208:           \n",
    "        tree = ET.parse(path+lis)\n",
    "        for obj in tree.findall(\"object\"):\n",
    "            objs=obj.find('name')\n",
    "            if objs.text==label:\n",
    "                i=i+1\n",
    "    print('number of '+ label +'='+ str(i))"
   ]
  },
  {
   "cell_type": "code",
   "execution_count": null,
   "metadata": {},
   "outputs": [],
   "source": [
    "for label in labels:\n",
    "    i=0\n",
    "    for lis in file_list:\n",
    "        \n",
    "        if int(lis[9:13])<3360:           \n",
    "            tree = ET.parse(path+lis)\n",
    "            for obj in tree.findall(\"object\"):\n",
    "                objs=obj.find('name')\n",
    "                if objs.text==label:\n",
    "                    i=i+1\n",
    "    print('number of '+ label +'='+ str(i))"
   ]
  },
  {
   "cell_type": "code",
   "execution_count": null,
   "metadata": {},
   "outputs": [],
   "source": [
    "def edit_xml():\n",
    "    for lis in file_list_py:  \n",
    "        tree = ET.parse(path+lis)\n",
    "        for elem in tree.findall(\"fildname\"):\n",
    "            elem.tag='filename'\n",
    "        tree.write(save_path_xml+lis)  #xml 수정\\\n",
    "    print(\"edit_xml has Finished!\")"
   ]
  },
  {
   "cell_type": "code",
   "execution_count": null,
   "metadata": {},
   "outputs": [],
   "source": [
    "def edit_xml():\n",
    "    for lis in file_list_py:  \n",
    "        tree = ET.parse(path+lis)\n",
    "        for elem in tree.findall(\"object\"):\n",
    "            if elem.tag!='filename'\n",
    "        tree.write(save_path_xml+lis)  #xml 수정\\\n",
    "    print(\"edit_xml has Finished!\")"
   ]
  },
  {
   "cell_type": "code",
   "execution_count": 9,
   "metadata": {},
   "outputs": [],
   "source": [
    "def check_object():\n",
    "    for lis in file_list_py:  \n",
    "        tree = ET.parse(path+lis)\n",
    "        root=tree.getroot()\n",
    "        i=0\n",
    "        for elem in root.findall(\"object\"):\n",
    "            i=i+1\n",
    "           # print(i)\n",
    "        if i==0:\n",
    "            print(lis+' has no object\\n')\n",
    "    print(\"Finish!\")"
   ]
  },
  {
   "cell_type": "code",
   "execution_count": 7,
   "metadata": {
    "scrolled": true
   },
   "outputs": [],
   "source": [
    "def check_channel():\n",
    "    for img in file_list_jpg:\n",
    "        img=np.array(Image.open(path2+img))\n",
    "        if img.shape[-1]!=3:\n",
    "            print(img+'has no 3 channel') # 채널검사\n",
    "    \n",
    "    print(\"Finish!\")\n",
    "#img=np.array(Image.open('Desktop/Bbox_1/Bbox_0001/MP_SEL_000001.jpg'))"
   ]
  },
  {
   "cell_type": "code",
   "execution_count": null,
   "metadata": {},
   "outputs": [],
   "source": [
    "def img_resize(width,height):\n",
    "    for img in file_list_jpg:\n",
    "        image=Image.open(path2+img)\n",
    "        resize_image=image.resize((width,height))\n",
    "        resize_image.save(save_path_img+img)\n",
    "    print('finish!')"
   ]
  },
  {
   "cell_type": "code",
   "execution_count": null,
   "metadata": {},
   "outputs": [],
   "source": [
    "def resize_xml(wdt=500,hgt=300):\n",
    "    for lis in file_list_py:\n",
    "        tree=ET.parse(save_path_xml+lis)\n",
    " \n",
    "        size=tree.find('size')  \n",
    "\n",
    "        width=size.find('width')    \n",
    "        original_width=int(width.text)\n",
    "        width.text=str(wdt)\n",
    "\n",
    "        height=size.find('height')\n",
    "        original_height=int(height.text)\n",
    "        height.text=str(hgt)\n",
    "        \n",
    "        for obj in tree.findall('object'):\n",
    "            bdbox=obj.find('bndbox')    \n",
    "    \n",
    "            xmin=bdbox.find('xmin')\n",
    "            resize_xmin=float(xmin.text)\n",
    "            resize_xmin=str(round(resize_xmin*(wdt/original_width)))\n",
    "            xmin.text=resize_xmin\n",
    "    \n",
    "            ymin=bdbox.find('ymin')\n",
    "            resize_ymin=float(ymin.text)\n",
    "            resize_ymin=str(round(resize_ymin*(hgt/original_height)))\n",
    "            ymin.text=resize_ymin\n",
    "    \n",
    "            xmax=bdbox.find('xmax')\n",
    "            resize_xmax=float(xmax.text)\n",
    "          cd  resize_xmax=str(round(resize_xmax*(wdt/original_width)))\n",
    "            xmax.text=resize_xmax\n",
    "    \n",
    "            ymax=bdbox.find('ymax')\n",
    "            resize_ymax=float(ymax.text)\n",
    "            resize_ymax=str(round(resize_ymax*(hgt/original_height)))\n",
    "            ymax.text=resize_ymax\n",
    "            \n",
    "            \n",
    "        tree.write(save_path_xml+lis)"
   ]
  },
  {
   "cell_type": "code",
   "execution_count": 10,
   "metadata": {},
   "outputs": [
    {
     "name": "stdout",
     "output_type": "stream",
     "text": [
      "Finish!\n"
     ]
    }
   ],
   "source": [
    "check_object()"
   ]
  },
  {
   "cell_type": "code",
   "execution_count": 11,
   "metadata": {},
   "outputs": [
    {
     "name": "stdout",
     "output_type": "stream",
     "text": [
      "Finish!\n"
     ]
    }
   ],
   "source": [
    "check_channel()"
   ]
  },
  {
   "cell_type": "code",
   "execution_count": null,
   "metadata": {},
   "outputs": [],
   "source": [
    "edit_xml()#  fildname->filename"
   ]
  },
  {
   "cell_type": "code",
   "execution_count": null,
   "metadata": {},
   "outputs": [],
   "source": [
    "obj_tv() # create object_train, object_val"
   ]
  },
  {
   "cell_type": "code",
   "execution_count": null,
   "metadata": {},
   "outputs": [],
   "source": [
    "create_tv()  # create train, trainval, val"
   ]
  },
  {
   "cell_type": "code",
   "execution_count": null,
   "metadata": {},
   "outputs": [],
   "source": [
    "img_resize(640,480)  # image resize"
   ]
  },
  {
   "cell_type": "code",
   "execution_count": null,
   "metadata": {},
   "outputs": [],
   "source": [
    "resize_xml(640,480)    # resize xmin, xmax ymin ymax"
   ]
  },
  {
   "cell_type": "code",
   "execution_count": 12,
   "metadata": {},
   "outputs": [
    {
     "name": "stdout",
     "output_type": "stream",
     "text": [
      "Finish\n"
     ]
    }
   ],
   "source": [
    "create_test()"
   ]
  },
  {
   "cell_type": "code",
   "execution_count": null,
   "metadata": {},
   "outputs": [],
   "source": []
  }
 ],
 "metadata": {
  "kernelspec": {
   "display_name": "Python 3",
   "language": "python",
   "name": "python3"
  },
  "language_info": {
   "codemirror_mode": {
    "name": "ipython",
    "version": 3
   },
   "file_extension": ".py",
   "mimetype": "text/x-python",
   "name": "python",
   "nbconvert_exporter": "python",
   "pygments_lexer": "ipython3",
   "version": "3.7.6"
  }
 },
 "nbformat": 4,
 "nbformat_minor": 4
}
